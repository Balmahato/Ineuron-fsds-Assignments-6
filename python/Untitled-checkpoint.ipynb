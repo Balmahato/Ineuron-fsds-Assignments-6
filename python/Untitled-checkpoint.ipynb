{
 "cells": [
  {
   "cell_type": "markdown",
   "id": "b4c7e6f4",
   "metadata": {},
   "source": [
    "# Assignment 6"
   ]
  },
  {
   "cell_type": "markdown",
   "id": "ef8e3133",
   "metadata": {},
   "source": [
    "1. What are escape characters, and how do you use them?"
   ]
  },
  {
   "cell_type": "markdown",
   "id": "30ab1a2b",
   "metadata": {},
   "source": [
    "Ans:- Escape characters represent characters in string values that would otherwise be difficult or impossible to type into code. we can use the backslash character to escape a single character or symbol\n",
    "   \n",
    "   \n",
    "   exmaple:  \\ t, \\ n"
   ]
  },
  {
   "cell_type": "markdown",
   "id": "f646d241",
   "metadata": {},
   "source": [
    "2. What do the escape characters n and t stand for?"
   ]
  },
  {
   "cell_type": "markdown",
   "id": "c11b70be",
   "metadata": {},
   "source": [
    "Ans:-  The escape character '\\n' stands for a new line. The escape character '\\t' stands for a tab.\n",
    " "
   ]
  },
  {
   "cell_type": "markdown",
   "id": "785871aa",
   "metadata": {},
   "source": [
    "3. What is the way to include backslash characters in a string?"
   ]
  },
  {
   "cell_type": "markdown",
   "id": "9a5bb9f5",
   "metadata": {},
   "source": [
    "Ans:- The \\ \\ escape character will represent the backslash character in a string"
   ]
  },
  {
   "cell_type": "markdown",
   "id": "4de682f4",
   "metadata": {},
   "source": [
    "4. The string \"Howl's Moving Castle\" is a correct value. Why isn't the single quote character in the word Howl's not escaped a problem?"
   ]
  },
  {
   "cell_type": "markdown",
   "id": "69cb2af6",
   "metadata": {},
   "source": [
    "Ans:- The string \"Howl's moving castle\" escaped the problem because it is wrapped inside double quotes. if its wrapped inside  single quotes then we have to use escape character  \\  to show single quote in the final output\n",
    "    \n",
    "    \n",
    "    'Howl\\'s moving Castle'  -> 'Howl's moving Castle'"
   ]
  },
  {
   "cell_type": "markdown",
   "id": "aa63565a",
   "metadata": {},
   "source": [
    "5. How do you write a string of newlines if you don't want to use the n character?"
   ]
  },
  {
   "cell_type": "markdown",
   "id": "c791e04d",
   "metadata": {},
   "source": [
    "Ans:- Multiline string allow you to use newlines in string without the  \\n escape character"
   ]
  },
  {
   "cell_type": "code",
   "execution_count": 2,
   "id": "9113ad85",
   "metadata": {},
   "outputs": [
    {
     "name": "stdout",
     "output_type": "stream",
     "text": [
      "iNeuron FSDS\n"
     ]
    }
   ],
   "source": [
    "#Example:\n",
    "a = 'iNeuron FSDS'\n",
    "print(a)"
   ]
  },
  {
   "cell_type": "markdown",
   "id": "f2eaf2b3",
   "metadata": {},
   "source": [
    "6. What are the values of the given expressions?\n",
    "\n",
    "'Hello, world!'[1]\n",
    "\n",
    "'Hello, world!'[0:5]\n",
    "\n",
    "'Hello, world!'[:5]\n",
    "\n",
    "'Hello, world!'[3:]\n"
   ]
  },
  {
   "cell_type": "code",
   "execution_count": 5,
   "id": "bd9b001e",
   "metadata": {},
   "outputs": [
    {
     "data": {
      "text/plain": [
       "'lo, world!'"
      ]
     },
     "execution_count": 5,
     "metadata": {},
     "output_type": "execute_result"
    }
   ],
   "source": [
    "\n",
    "\n",
    "# Extracts the character at index 1 from the string 'Hello, world!'\n",
    "'Hello, world!'[1]\n",
    "\n",
    "# Extracts the substring from index 0 to 4 (exclusive) from the string 'Hello, world!'\n",
    "'Hello, world!'[0:5]\n",
    "\n",
    "# Extracts the substring from the start to index 4 (exclusive) from the string 'Hello, world!'\n",
    "'Hello, world!'[:5]\n",
    "\n",
    "# Extracts the substring from index 3 to the end of the string 'Hello, world!'\n",
    "'Hello, world!'[3:]"
   ]
  },
  {
   "cell_type": "markdown",
   "id": "4631dbfe",
   "metadata": {},
   "source": [
    "7. What are the values of the following expressions?\n",
    "\n",
    "'Hello'.upper()\n",
    "\n",
    "'Hello'.upper().isupper()\n",
    "\n",
    "'Hello'.upper().lower()\n"
   ]
  },
  {
   "cell_type": "code",
   "execution_count": 7,
   "id": "a4da97f6",
   "metadata": {},
   "outputs": [],
   "source": [
    "expression1 = 'Hello'.upper()\n",
    "expression2 = 'Hello'.upper().isupper()\n",
    "expression3 = 'Hello'.upper().lower()"
   ]
  },
  {
   "cell_type": "markdown",
   "id": "c35c7cbc",
   "metadata": {},
   "source": [
    "8. What are the values of the following expressions?\n",
    "\n",
    "'Remember, remember, the fifth of July.'.split()\n",
    "\n",
    "'-'.join('There can only one.'.split())\n"
   ]
  },
  {
   "cell_type": "markdown",
   "id": "ae2a821b",
   "metadata": {},
   "source": [
    "Ans-:"
   ]
  },
  {
   "cell_type": "code",
   "execution_count": 9,
   "id": "8b8b6536",
   "metadata": {},
   "outputs": [],
   "source": [
    "\n",
    " # Splitting the string 'Remember, remember, the fifth of July.' into a list of words\n",
    "values_1 = 'Remember, remember, the fifth of July.'.split()\n",
    "\n",
    "# Splitting the string 'There can only one.' into a list of words and joining them with '-' in between\n",
    "values_2 = '-'.join('There can only one.'.split())"
   ]
  },
  {
   "cell_type": "markdown",
   "id": "07cafe29",
   "metadata": {},
   "source": [
    "9. What are the methods for right-justifying, left-justifying, and centering a string?"
   ]
  },
  {
   "cell_type": "markdown",
   "id": "04b4bce3",
   "metadata": {},
   "source": [
    "Ans-: The rjust(),  ljust(),  center()  string methods, respectively"
   ]
  },
  {
   "cell_type": "markdown",
   "id": "c0bd3cac",
   "metadata": {},
   "source": [
    "10. What is the best way to remove whitespace characters from the start or end?"
   ]
  },
  {
   "cell_type": "markdown",
   "id": "3642a46c",
   "metadata": {},
   "source": [
    "Ans-: The lstrip() and rstrip() methods remove whitespace characters from the left and right ends of a string respectively"
   ]
  },
  {
   "cell_type": "code",
   "execution_count": null,
   "id": "67644e30",
   "metadata": {},
   "outputs": [],
   "source": []
  }
 ],
 "metadata": {
  "kernelspec": {
   "display_name": "Python 3 (ipykernel)",
   "language": "python",
   "name": "python3"
  },
  "language_info": {
   "codemirror_mode": {
    "name": "ipython",
    "version": 3
   },
   "file_extension": ".py",
   "mimetype": "text/x-python",
   "name": "python",
   "nbconvert_exporter": "python",
   "pygments_lexer": "ipython3",
   "version": "3.9.12"
  }
 },
 "nbformat": 4,
 "nbformat_minor": 5
}
